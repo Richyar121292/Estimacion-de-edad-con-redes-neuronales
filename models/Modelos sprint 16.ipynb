{
 "cells": [
  {
   "cell_type": "markdown",
   "metadata": {
    "deletable": false,
    "editable": false,
    "tags": [
     "df89053c-55da-4946-b602-c3baf619b53f"
    ]
   },
   "source": [
    "## Inicialización"
   ]
  },
  {
   "cell_type": "markdown",
   "metadata": {},
   "source": [
    "## Modelado"
   ]
  },
  {
   "cell_type": "markdown",
   "metadata": {},
   "source": [
    "Define las funciones necesarias para entrenar tu modelo en la plataforma GPU y crear un solo script que las contenga todas junto con la sección de inicialización.\n",
    "\n",
    "Para facilitar esta tarea, puedes definirlas en este notebook y ejecutar un código listo en la siguiente sección para componer automáticamente el script.\n",
    "\n",
    "Los revisores del proyecto también verificarán las definiciones a continuación, para que puedan comprender cómo construiste el modelo."
   ]
  },
  {
   "cell_type": "code",
   "execution_count": 11,
   "metadata": {},
   "outputs": [],
   "source": [
    "# Función para cargar los datos de entrenamiento para el modelo\n",
    "def load_train(path):\n",
    "    \"\"\"\n",
    "    Carga la parte de entrenamiento del conjunto de datos desde la ruta.\n",
    "    \"\"\"\n",
    "    labels_path = path + 'labels.csv'\n",
    "    labels_df = pd.read_csv(labels_path)\n",
    "\n",
    "    datagen = ImageDataGenerator(\n",
    "        rescale=1./255,\n",
    "        validation_split=0.25\n",
    "    )\n",
    "\n",
    "    train_gen_flow = datagen.flow_from_dataframe(\n",
    "        dataframe=labels_df,\n",
    "        directory=path + 'final_files/',\n",
    "        x_col='file_name',\n",
    "        y_col='real_age',\n",
    "        target_size=(224, 224),\n",
    "        batch_size=32,\n",
    "        class_mode='raw',\n",
    "        subset='training',\n",
    "        seed=12345\n",
    "    )\n",
    "\n",
    "    return train_gen_flow"
   ]
  },
  {
   "cell_type": "code",
   "execution_count": 12,
   "metadata": {},
   "outputs": [],
   "source": [
    "# Función para cargar los datos de prueba para el modelo\n",
    "def load_test(path):\n",
    "    \"\"\"\n",
    "    Carga la parte de validación/prueba del conjunto de datos desde la ruta.\n",
    "    \"\"\"\n",
    "    labels_path = path + 'labels.csv'\n",
    "    labels_df = pd.read_csv(labels_path)\n",
    "\n",
    "    datagen = ImageDataGenerator(\n",
    "        rescale=1./255,\n",
    "        validation_split=0.25\n",
    "    )\n",
    "\n",
    "    test_gen_flow = datagen.flow_from_dataframe(\n",
    "        dataframe=labels_df,\n",
    "        directory=path + 'final_files/',\n",
    "        x_col='file_name',\n",
    "        y_col='real_age',\n",
    "        target_size=(224, 224),\n",
    "        batch_size=32,\n",
    "        class_mode='raw',\n",
    "        subset='validation',\n",
    "        seed=12345\n",
    "    )\n",
    "\n",
    "    return test_gen_flow"
   ]
  },
  {
   "cell_type": "code",
   "execution_count": 13,
   "metadata": {},
   "outputs": [],
   "source": [
    "# Función para crear el modelo de entrenamiento\n",
    "def create_model(input_shape):\n",
    "    \"\"\"\n",
    "    Define el modelo.\n",
    "    \"\"\"\n",
    "    model = Sequential()\n",
    "    model.add(ResNet50(weights='imagenet', include_top=False, input_shape=input_shape))\n",
    "    model.add(GlobalAveragePooling2D())\n",
    "    model.add(Dense(1024, activation='relu'))\n",
    "    model.add(Dropout(0.5))\n",
    "    model.add(Dense(1))  # La salida es la edad, es decir un solo valor\n",
    "\n",
    "    model.compile(optimizer=Adam(learning_rate=0.0001), loss='mean_squared_error', metrics=['mae'])\n",
    "\n",
    "    return model"
   ]
  },
  {
   "cell_type": "code",
   "execution_count": 14,
   "metadata": {},
   "outputs": [],
   "source": [
    "# Función para entrenar el modelo\n",
    "def train_model(model, train_data, test_data, batch_size=None, epochs=5, steps_per_epoch=None, validation_steps=None):\n",
    "    \"\"\"\n",
    "    Entrena el modelo dados los parámetros.\n",
    "    \"\"\"\n",
    "    if steps_per_epoch is None:\n",
    "        steps_per_epoch = len(train_data)\n",
    "    if validation_steps is None:\n",
    "        validation_steps = len(test_data)\n",
    "\n",
    "    model.fit(\n",
    "        train_data,\n",
    "        steps_per_epoch=steps_per_epoch,\n",
    "        validation_data=test_data,\n",
    "        validation_steps=validation_steps,\n",
    "        epochs=epochs,\n",
    "        batch_size=batch_size,\n",
    "        verbose=1\n",
    "    )\n",
    "\n",
    "    return model"
   ]
  },
  {
   "cell_type": "markdown",
   "metadata": {},
   "source": [
    "### Prepara el script para ejecutarlo en la plataforma GPU"
   ]
  },
  {
   "cell_type": "markdown",
   "metadata": {},
   "source": [
    "Una vez que hayas definido las funciones necesarias, puedes redactar un script para la plataforma GPU, descargarlo a través del menú \"File|Open...\" (Archivo|Abrir) y cargarlo más tarde para ejecutarlo en la plataforma GPU.\n",
    "\n",
    "Nota: el script debe incluir también la sección de inicialización. A continuación se muestra un ejemplo."
   ]
  },
  {
   "cell_type": "code",
   "execution_count": 15,
   "metadata": {},
   "outputs": [],
   "source": [
    "# prepara un script para ejecutarlo en la plataforma GPU\n",
    "\n",
    "init_str = \"\"\"\n",
    "import pandas as pd\n",
    "\n",
    "import tensorflow as tf\n",
    "\n",
    "from tensorflow.keras.preprocessing.image import ImageDataGenerator\n",
    "from tensorflow.keras.applications.resnet import ResNet50\n",
    "from tensorflow.keras.models import Sequential\n",
    "from tensorflow.keras.layers import GlobalAveragePooling2D, Dense, Dropout, Flatten\n",
    "from tensorflow.keras.optimizers import Adam\n",
    "\"\"\"\n",
    "\n",
    "import inspect\n",
    "\n",
    "with open('run_model_on_gpu.py', 'w') as f:\n",
    "    \n",
    "    f.write(init_str)\n",
    "    f.write('\\n\\n')\n",
    "        \n",
    "    for fn_name in [load_train, load_test, create_model, train_model]:\n",
    "        \n",
    "        src = inspect.getsource(fn_name)\n",
    "        f.write(src)\n",
    "        f.write('\\n\\n')"
   ]
  },
  {
   "cell_type": "markdown",
   "metadata": {},
   "source": [
    "### Resultado"
   ]
  },
  {
   "cell_type": "markdown",
   "metadata": {},
   "source": [
    "Coloca aquí el resultado de la plataforma GPU como una celda Markdown."
   ]
  },
  {
   "cell_type": "markdown",
   "metadata": {},
   "source": [
    "El resultado al correr el código localmente en el GPU es:\n",
    "\n",
    "c:\\Users\\ricar\\anaconda3\\Lib\\site-packages\\keras\\src\\trainers\\data_adapters\\py_dataset_adapter.py:121: UserWarning: Your `PyDataset` class should call `super().__init__(**kwargs)` in its constructor. `**kwargs` can include `workers`, `use_multiprocessing`, `max_queue_size`. Do not pass these arguments to `fit()`, as they will be ignored.\n",
    "  self._warn_if_super_not_called()  \n",
    "  \n",
    "  \n",
    "**Epoch 1/5**\n",
    "190/190 ━━━━━━━━━━━━━━━━━━━━ 1126s 6s/step - loss: 305.3067 - mae: 12.7807 - val_loss: 668.8609 - val_mae: 20.7864\n",
    "\n",
    "**Epoch 2/5**\n",
    "190/190 ━━━━━━━━━━━━━━━━━━━━ 1069s 6s/step - loss: 67.3475 - mae: 6.3674 - val_loss: 420.6157 - val_mae: 15.3095\n",
    "\n",
    "**Epoch 3/5**\n",
    "190/190 ━━━━━━━━━━━━━━━━━━━━ 1079s 6s/step - loss: 44.0825 - mae: 5.0434 - val_loss: 267.6707 - val_mae: 12.2935\n",
    "\n",
    "**Epoch 4/5**\n",
    "190/190 ━━━━━━━━━━━━━━━━━━━━ 1065s 6s/step - loss: 35.0197 - mae: 4.3925 - val_loss: 132.2638 - val_mae: 9.0930\n",
    "\n",
    "**Epoch 5/5**\n",
    "190/190 ━━━━━━━━━━━━━━━━━━━━ 1045s 6s/step - loss: 29.7083 - mae: 4.1177 - val_loss: 79.1488 - val_mae: 6.8434\n"
   ]
  },
  {
   "cell_type": "markdown",
   "metadata": {},
   "source": [
    "## Conclusiones"
   ]
  },
  {
   "cell_type": "markdown",
   "metadata": {},
   "source": [
    "Se usó una **red neuronal implementando ResNet50 para procesamiento de imágenes en el proyecto de regresión lineal**. \n",
    "El **modelo fue capaz de identificar correctamente la edad de las personas por medio del conjunto de 7651 imágenes** y una semilla aleatorizada de 12345.\n",
    "El **desempeño del modelo es satisfactorio**, con un pequeño margen para posible mejora, implementando ajuste de hiperparámetros o herramientas como GridSearchCV.\n",
    "\n",
    "El **equipo utilizado es un GPU(Graphics Processing Unit) Nvidia GTX Geforce 1650**. \n",
    "\n",
    "- Debido a los recursos limitados en la plataforma, la terminal moría durante el entrenamiento, por lo que el modelo se entrenó localmente  con un conjunto de 7651 imágenes y mostró una **progresión positiva en el entranamiento para los conjuntos de entrenamiento y validación**, reduciendo los valores de pérdida en cada época\n",
    "- Demoró 89 minutos ajustado para 5 épocas. \n",
    "- **No se rebasó el umbral máximo de margen de error en el EAM (Error Absoluto Medio) de 8**\n",
    "- **El mejor valor de EAM (Error Absoluto Medio) fue en la última época con 4.11** \n",
    "- El valor de **pérdida general en el conjunto de datos es de 29.70** \n",
    "- un valor de **pérdida de 79.14 en el conjunto de validación**\n",
    "- **EAM de 6.84 en el conjunto de validación**"
   ]
  }
 ],
 "metadata": {
  "ExecuteTimeLog": [
   {
    "duration": 2314,
    "start_time": "2025-03-10T16:40:29.982Z"
   },
   {
    "duration": 39613,
    "start_time": "2025-03-10T16:40:50.821Z"
   },
   {
    "duration": 23,
    "start_time": "2025-03-10T16:42:47.338Z"
   },
   {
    "duration": 1747,
    "start_time": "2025-03-10T16:42:53.982Z"
   },
   {
    "duration": 644,
    "start_time": "2025-03-10T16:42:55.734Z"
   },
   {
    "duration": 1,
    "start_time": "2025-03-10T16:42:56.379Z"
   },
   {
    "duration": 0,
    "start_time": "2025-03-10T16:42:56.381Z"
   },
   {
    "duration": 0,
    "start_time": "2025-03-10T16:42:56.382Z"
   },
   {
    "duration": 0,
    "start_time": "2025-03-10T16:42:56.383Z"
   },
   {
    "duration": 0,
    "start_time": "2025-03-10T16:42:56.384Z"
   },
   {
    "duration": 0,
    "start_time": "2025-03-10T16:42:56.385Z"
   },
   {
    "duration": 20,
    "start_time": "2025-03-10T16:43:41.283Z"
   },
   {
    "duration": 1523,
    "start_time": "2025-03-10T16:45:21.887Z"
   },
   {
    "duration": 22,
    "start_time": "2025-03-10T16:45:36.955Z"
   },
   {
    "duration": 13,
    "start_time": "2025-03-10T16:45:54.495Z"
   },
   {
    "duration": 3068,
    "start_time": "2025-03-10T16:46:37.400Z"
   },
   {
    "duration": 677,
    "start_time": "2025-03-10T16:47:36.840Z"
   },
   {
    "duration": 1638,
    "start_time": "2025-03-10T16:47:42.973Z"
   },
   {
    "duration": 1478,
    "start_time": "2025-03-10T16:47:44.614Z"
   },
   {
    "duration": 693,
    "start_time": "2025-03-10T16:47:46.094Z"
   },
   {
    "duration": 0,
    "start_time": "2025-03-10T16:47:46.789Z"
   },
   {
    "duration": 0,
    "start_time": "2025-03-10T16:47:46.791Z"
   },
   {
    "duration": 0,
    "start_time": "2025-03-10T16:47:46.792Z"
   },
   {
    "duration": 0,
    "start_time": "2025-03-10T16:47:46.793Z"
   },
   {
    "duration": 0,
    "start_time": "2025-03-10T16:47:46.794Z"
   },
   {
    "duration": 0,
    "start_time": "2025-03-10T16:47:46.795Z"
   },
   {
    "duration": 1689,
    "start_time": "2025-03-10T16:49:35.279Z"
   },
   {
    "duration": 21,
    "start_time": "2025-03-10T16:49:42.306Z"
   },
   {
    "duration": 2846,
    "start_time": "2025-03-10T16:50:50.447Z"
   },
   {
    "duration": 23,
    "start_time": "2025-03-10T16:50:59.152Z"
   },
   {
    "duration": 1505,
    "start_time": "2025-03-10T16:51:06.009Z"
   },
   {
    "duration": 647,
    "start_time": "2025-03-10T16:51:07.517Z"
   },
   {
    "duration": 0,
    "start_time": "2025-03-10T16:51:08.166Z"
   },
   {
    "duration": 0,
    "start_time": "2025-03-10T16:51:08.168Z"
   },
   {
    "duration": 0,
    "start_time": "2025-03-10T16:51:08.169Z"
   },
   {
    "duration": 0,
    "start_time": "2025-03-10T16:51:08.170Z"
   },
   {
    "duration": 0,
    "start_time": "2025-03-10T16:51:08.172Z"
   },
   {
    "duration": 0,
    "start_time": "2025-03-10T16:51:08.173Z"
   },
   {
    "duration": 3,
    "start_time": "2025-03-10T16:51:50.009Z"
   },
   {
    "duration": 4,
    "start_time": "2025-03-10T16:52:29.720Z"
   },
   {
    "duration": 1526,
    "start_time": "2025-03-10T16:53:27.218Z"
   },
   {
    "duration": 684,
    "start_time": "2025-03-10T16:53:28.747Z"
   },
   {
    "duration": 0,
    "start_time": "2025-03-10T16:53:29.433Z"
   },
   {
    "duration": 0,
    "start_time": "2025-03-10T16:53:29.435Z"
   },
   {
    "duration": 0,
    "start_time": "2025-03-10T16:53:29.436Z"
   },
   {
    "duration": 0,
    "start_time": "2025-03-10T16:53:29.437Z"
   },
   {
    "duration": 0,
    "start_time": "2025-03-10T16:53:29.440Z"
   },
   {
    "duration": 0,
    "start_time": "2025-03-10T16:53:29.441Z"
   },
   {
    "duration": 1,
    "start_time": "2025-03-10T16:53:29.442Z"
   },
   {
    "duration": 0,
    "start_time": "2025-03-10T16:53:29.444Z"
   },
   {
    "duration": 3,
    "start_time": "2025-03-10T16:53:39.679Z"
   },
   {
    "duration": 3,
    "start_time": "2025-03-10T16:53:41.823Z"
   },
   {
    "duration": 1544,
    "start_time": "2025-03-10T16:53:57.530Z"
   },
   {
    "duration": 659,
    "start_time": "2025-03-10T16:53:59.773Z"
   },
   {
    "duration": 3,
    "start_time": "2025-03-10T16:54:03.837Z"
   },
   {
    "duration": 3,
    "start_time": "2025-03-10T16:54:05.534Z"
   },
   {
    "duration": 72,
    "start_time": "2025-03-10T17:01:22.712Z"
   },
   {
    "duration": 21,
    "start_time": "2025-03-10T17:04:51.687Z"
   },
   {
    "duration": 3,
    "start_time": "2025-03-10T17:07:38.555Z"
   },
   {
    "duration": 382,
    "start_time": "2025-03-10T17:07:57.145Z"
   },
   {
    "duration": 1625,
    "start_time": "2025-03-10T17:08:30.700Z"
   },
   {
    "duration": 881,
    "start_time": "2025-03-10T17:16:12.256Z"
   },
   {
    "duration": 7,
    "start_time": "2025-03-10T17:22:24.211Z"
   },
   {
    "duration": 9,
    "start_time": "2025-03-10T17:22:34.635Z"
   },
   {
    "duration": 12,
    "start_time": "2025-03-10T17:23:10.345Z"
   },
   {
    "duration": 9,
    "start_time": "2025-03-10T17:23:40.285Z"
   },
   {
    "duration": 4,
    "start_time": "2025-03-10T17:43:24.448Z"
   },
   {
    "duration": 3,
    "start_time": "2025-03-10T17:43:43.557Z"
   },
   {
    "duration": 3,
    "start_time": "2025-03-10T17:45:16.712Z"
   },
   {
    "duration": 4,
    "start_time": "2025-03-10T18:25:33.147Z"
   },
   {
    "duration": 274,
    "start_time": "2025-03-10T18:25:44.907Z"
   },
   {
    "duration": 3,
    "start_time": "2025-03-10T20:24:41.318Z"
   },
   {
    "duration": 259,
    "start_time": "2025-03-10T20:24:47.928Z"
   },
   {
    "duration": 3,
    "start_time": "2025-03-10T20:25:17.845Z"
   },
   {
    "duration": 332,
    "start_time": "2025-03-10T20:25:19.800Z"
   },
   {
    "duration": 76,
    "start_time": "2025-03-10T20:30:05.458Z"
   },
   {
    "duration": 6,
    "start_time": "2025-03-10T20:31:32.208Z"
   },
   {
    "duration": 153,
    "start_time": "2025-03-10T20:32:40.401Z"
   },
   {
    "duration": 7,
    "start_time": "2025-03-10T20:35:21.298Z"
   },
   {
    "duration": 6,
    "start_time": "2025-03-10T20:37:04.171Z"
   },
   {
    "duration": 7,
    "start_time": "2025-03-10T20:37:07.230Z"
   },
   {
    "duration": 149,
    "start_time": "2025-03-10T20:37:45.900Z"
   },
   {
    "duration": 6,
    "start_time": "2025-03-10T20:38:02.577Z"
   },
   {
    "duration": 8,
    "start_time": "2025-03-10T20:38:04.632Z"
   },
   {
    "duration": 148,
    "start_time": "2025-03-10T20:38:05.865Z"
   },
   {
    "duration": 147,
    "start_time": "2025-03-10T20:39:47.200Z"
   },
   {
    "duration": 145,
    "start_time": "2025-03-10T20:39:54.219Z"
   },
   {
    "duration": 145,
    "start_time": "2025-03-10T20:40:01.159Z"
   },
   {
    "duration": 147,
    "start_time": "2025-03-10T20:40:06.186Z"
   },
   {
    "duration": 171,
    "start_time": "2025-03-10T20:40:56.567Z"
   },
   {
    "duration": 187,
    "start_time": "2025-03-10T20:41:13.155Z"
   },
   {
    "duration": 196,
    "start_time": "2025-03-10T20:41:21.425Z"
   },
   {
    "duration": 172,
    "start_time": "2025-03-10T20:41:36.077Z"
   },
   {
    "duration": 20,
    "start_time": "2025-03-10T23:21:10.087Z"
   },
   {
    "duration": 446,
    "start_time": "2025-03-10T23:24:46.244Z"
   },
   {
    "duration": 66,
    "start_time": "2025-03-10T23:26:42.492Z"
   },
   {
    "duration": 6,
    "start_time": "2025-03-10T23:27:36.513Z"
   },
   {
    "duration": 68,
    "start_time": "2025-03-10T23:30:28.959Z"
   },
   {
    "duration": 68,
    "start_time": "2025-03-11T02:04:10.266Z"
   },
   {
    "duration": 158,
    "start_time": "2025-03-11T19:25:08.980Z"
   },
   {
    "duration": 3519,
    "start_time": "2025-03-11T19:25:15.699Z"
   },
   {
    "duration": 19,
    "start_time": "2025-03-11T19:25:19.220Z"
   },
   {
    "duration": 3,
    "start_time": "2025-03-11T19:25:19.241Z"
   },
   {
    "duration": 11,
    "start_time": "2025-03-11T19:25:19.246Z"
   },
   {
    "duration": 426,
    "start_time": "2025-03-11T19:25:19.259Z"
   },
   {
    "duration": 7,
    "start_time": "2025-03-11T19:25:19.687Z"
   },
   {
    "duration": 10,
    "start_time": "2025-03-11T19:25:19.695Z"
   },
   {
    "duration": 220,
    "start_time": "2025-03-11T19:25:19.706Z"
   },
   {
    "duration": 501,
    "start_time": "2025-03-11T19:25:19.928Z"
   },
   {
    "duration": 0,
    "start_time": "2025-03-11T19:25:20.431Z"
   },
   {
    "duration": 0,
    "start_time": "2025-03-11T19:25:20.432Z"
   },
   {
    "duration": 0,
    "start_time": "2025-03-11T19:25:20.434Z"
   },
   {
    "duration": 0,
    "start_time": "2025-03-11T19:25:20.435Z"
   },
   {
    "duration": 0,
    "start_time": "2025-03-11T19:25:20.436Z"
   },
   {
    "duration": 0,
    "start_time": "2025-03-11T19:25:20.437Z"
   },
   {
    "duration": 0,
    "start_time": "2025-03-11T19:25:20.438Z"
   },
   {
    "duration": 0,
    "start_time": "2025-03-11T19:25:20.439Z"
   },
   {
    "duration": 1730,
    "start_time": "2025-03-11T19:27:18.627Z"
   },
   {
    "duration": 107,
    "start_time": "2025-03-11T19:27:20.359Z"
   },
   {
    "duration": 3,
    "start_time": "2025-03-11T19:27:20.467Z"
   },
   {
    "duration": 12,
    "start_time": "2025-03-11T19:27:20.473Z"
   },
   {
    "duration": 302,
    "start_time": "2025-03-11T19:27:20.486Z"
   },
   {
    "duration": 7,
    "start_time": "2025-03-11T19:27:20.789Z"
   },
   {
    "duration": 9,
    "start_time": "2025-03-11T19:27:20.797Z"
   },
   {
    "duration": 224,
    "start_time": "2025-03-11T19:27:20.808Z"
   },
   {
    "duration": 897,
    "start_time": "2025-03-11T19:27:21.034Z"
   },
   {
    "duration": 3,
    "start_time": "2025-03-11T19:27:21.934Z"
   },
   {
    "duration": 4,
    "start_time": "2025-03-11T19:27:21.939Z"
   },
   {
    "duration": 4,
    "start_time": "2025-03-11T19:27:21.944Z"
   },
   {
    "duration": 4,
    "start_time": "2025-03-11T19:27:21.950Z"
   },
   {
    "duration": 4,
    "start_time": "2025-03-11T19:27:21.955Z"
   },
   {
    "duration": 18,
    "start_time": "2025-03-11T19:27:21.961Z"
   },
   {
    "duration": 889,
    "start_time": "2025-03-11T19:27:21.981Z"
   },
   {
    "duration": 0,
    "start_time": "2025-03-11T19:27:22.871Z"
   },
   {
    "duration": 71,
    "start_time": "2025-03-11T19:33:07.122Z"
   }
  ],
  "kernelspec": {
   "display_name": "Python [conda env:base] *",
   "language": "python",
   "name": "conda-base-py"
  },
  "language_info": {
   "codemirror_mode": {
    "name": "ipython",
    "version": 3
   },
   "file_extension": ".py",
   "mimetype": "text/x-python",
   "name": "python",
   "nbconvert_exporter": "python",
   "pygments_lexer": "ipython3",
   "version": "3.12.3"
  },
  "toc": {
   "base_numbering": 1,
   "nav_menu": {},
   "number_sections": true,
   "sideBar": true,
   "skip_h1_title": true,
   "title_cell": "Índice de contenido",
   "title_sidebar": "Contenido",
   "toc_cell": false,
   "toc_position": {
    "height": "calc(100% - 180px)",
    "left": "10px",
    "top": "150px",
    "width": "401px"
   },
   "toc_section_display": true,
   "toc_window_display": true
  }
 },
 "nbformat": 4,
 "nbformat_minor": 4
}
