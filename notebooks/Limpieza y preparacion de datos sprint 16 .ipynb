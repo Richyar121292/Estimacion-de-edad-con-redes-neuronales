{
 "cells": [
  {
   "cell_type": "markdown",
   "metadata": {
    "deletable": false,
    "editable": false,
    "tags": [
     "df89053c-55da-4946-b602-c3baf619b53f"
    ]
   },
   "source": [
    "## Inicialización"
   ]
  },
  {
   "cell_type": "code",
   "execution_count": 1,
   "metadata": {},
   "outputs": [],
   "source": [
    "# Importar librerías al inciio por ser buena práctica\n",
    "\n",
    "# Librerías estándar de Python\n",
    "import os\n",
    "\n",
    "# Manipulación y visualización de datos\n",
    "import pandas as pd\n",
    "import matplotlib.pyplot as plt\n",
    "import plotly.express as px\n",
    "\n",
    "# Manipulación de imágenes\n",
    "from PIL import Image\n",
    "\n",
    "# TensorFlow y Keras para Deep Learning\n",
    "import tensorflow as tf\n",
    "from tensorflow.keras.preprocessing.image import ImageDataGenerator\n",
    "from tensorflow.keras.applications.resnet import ResNet50\n",
    "from tensorflow.keras.models import Sequential\n",
    "from tensorflow.keras.layers import GlobalAveragePooling2D, Dense, Dropout, Flatten\n",
    "from tensorflow.keras.optimizers import Adam"
   ]
  },
  {
   "cell_type": "markdown",
   "metadata": {},
   "source": [
    "## Cargar datos"
   ]
  },
  {
   "cell_type": "markdown",
   "metadata": {},
   "source": [
    "El conjunto de datos se almacena en la carpeta `/datasets/faces/`\n",
    "- La carpeta `final_files` con 7600 fotos\n",
    "- El archivo `labels.csv` con leyendas, con dos columnas: `file_name` y `real_age`\n",
    "\n",
    "Dado que el número de archivos de imágenes es bastante elevado, se recomienda evitar leerlos todos a la vez, ya que esto consumiría muchos recursos computacionales. Te recomendamos crear un generador con ImageDataGenerator. Este método se explicó en el capítulo 3, lección 7 de este curso.\n",
    "\n",
    "El archivo de etiqueta se puede cargar como un archivo CSV habitual."
   ]
  },
  {
   "cell_type": "code",
   "execution_count": 2,
   "metadata": {},
   "outputs": [
    {
     "name": "stdout",
     "output_type": "stream",
     "text": [
      "    file_name  real_age\n",
      "0  000000.jpg         4\n",
      "1  000001.jpg        18\n",
      "2  000002.jpg        80\n",
      "3  000003.jpg        50\n",
      "4  000004.jpg        17\n"
     ]
    }
   ],
   "source": [
    "# Cargar archivo de etiquetas\n",
    "labels_path = '/datasets/faces/labels.csv'\n",
    "labels_df = pd.read_csv(labels_path)\n",
    "print(labels_df.head())"
   ]
  }
 ],
 "metadata": {
  "ExecuteTimeLog": [
   {
    "duration": 2314,
    "start_time": "2025-03-10T16:40:29.982Z"
   },
   {
    "duration": 39613,
    "start_time": "2025-03-10T16:40:50.821Z"
   },
   {
    "duration": 23,
    "start_time": "2025-03-10T16:42:47.338Z"
   },
   {
    "duration": 1747,
    "start_time": "2025-03-10T16:42:53.982Z"
   },
   {
    "duration": 644,
    "start_time": "2025-03-10T16:42:55.734Z"
   },
   {
    "duration": 1,
    "start_time": "2025-03-10T16:42:56.379Z"
   },
   {
    "duration": 0,
    "start_time": "2025-03-10T16:42:56.381Z"
   },
   {
    "duration": 0,
    "start_time": "2025-03-10T16:42:56.382Z"
   },
   {
    "duration": 0,
    "start_time": "2025-03-10T16:42:56.383Z"
   },
   {
    "duration": 0,
    "start_time": "2025-03-10T16:42:56.384Z"
   },
   {
    "duration": 0,
    "start_time": "2025-03-10T16:42:56.385Z"
   },
   {
    "duration": 20,
    "start_time": "2025-03-10T16:43:41.283Z"
   },
   {
    "duration": 1523,
    "start_time": "2025-03-10T16:45:21.887Z"
   },
   {
    "duration": 22,
    "start_time": "2025-03-10T16:45:36.955Z"
   },
   {
    "duration": 13,
    "start_time": "2025-03-10T16:45:54.495Z"
   },
   {
    "duration": 3068,
    "start_time": "2025-03-10T16:46:37.400Z"
   },
   {
    "duration": 677,
    "start_time": "2025-03-10T16:47:36.840Z"
   },
   {
    "duration": 1638,
    "start_time": "2025-03-10T16:47:42.973Z"
   },
   {
    "duration": 1478,
    "start_time": "2025-03-10T16:47:44.614Z"
   },
   {
    "duration": 693,
    "start_time": "2025-03-10T16:47:46.094Z"
   },
   {
    "duration": 0,
    "start_time": "2025-03-10T16:47:46.789Z"
   },
   {
    "duration": 0,
    "start_time": "2025-03-10T16:47:46.791Z"
   },
   {
    "duration": 0,
    "start_time": "2025-03-10T16:47:46.792Z"
   },
   {
    "duration": 0,
    "start_time": "2025-03-10T16:47:46.793Z"
   },
   {
    "duration": 0,
    "start_time": "2025-03-10T16:47:46.794Z"
   },
   {
    "duration": 0,
    "start_time": "2025-03-10T16:47:46.795Z"
   },
   {
    "duration": 1689,
    "start_time": "2025-03-10T16:49:35.279Z"
   },
   {
    "duration": 21,
    "start_time": "2025-03-10T16:49:42.306Z"
   },
   {
    "duration": 2846,
    "start_time": "2025-03-10T16:50:50.447Z"
   },
   {
    "duration": 23,
    "start_time": "2025-03-10T16:50:59.152Z"
   },
   {
    "duration": 1505,
    "start_time": "2025-03-10T16:51:06.009Z"
   },
   {
    "duration": 647,
    "start_time": "2025-03-10T16:51:07.517Z"
   },
   {
    "duration": 0,
    "start_time": "2025-03-10T16:51:08.166Z"
   },
   {
    "duration": 0,
    "start_time": "2025-03-10T16:51:08.168Z"
   },
   {
    "duration": 0,
    "start_time": "2025-03-10T16:51:08.169Z"
   },
   {
    "duration": 0,
    "start_time": "2025-03-10T16:51:08.170Z"
   },
   {
    "duration": 0,
    "start_time": "2025-03-10T16:51:08.172Z"
   },
   {
    "duration": 0,
    "start_time": "2025-03-10T16:51:08.173Z"
   },
   {
    "duration": 3,
    "start_time": "2025-03-10T16:51:50.009Z"
   },
   {
    "duration": 4,
    "start_time": "2025-03-10T16:52:29.720Z"
   },
   {
    "duration": 1526,
    "start_time": "2025-03-10T16:53:27.218Z"
   },
   {
    "duration": 684,
    "start_time": "2025-03-10T16:53:28.747Z"
   },
   {
    "duration": 0,
    "start_time": "2025-03-10T16:53:29.433Z"
   },
   {
    "duration": 0,
    "start_time": "2025-03-10T16:53:29.435Z"
   },
   {
    "duration": 0,
    "start_time": "2025-03-10T16:53:29.436Z"
   },
   {
    "duration": 0,
    "start_time": "2025-03-10T16:53:29.437Z"
   },
   {
    "duration": 0,
    "start_time": "2025-03-10T16:53:29.440Z"
   },
   {
    "duration": 0,
    "start_time": "2025-03-10T16:53:29.441Z"
   },
   {
    "duration": 1,
    "start_time": "2025-03-10T16:53:29.442Z"
   },
   {
    "duration": 0,
    "start_time": "2025-03-10T16:53:29.444Z"
   },
   {
    "duration": 3,
    "start_time": "2025-03-10T16:53:39.679Z"
   },
   {
    "duration": 3,
    "start_time": "2025-03-10T16:53:41.823Z"
   },
   {
    "duration": 1544,
    "start_time": "2025-03-10T16:53:57.530Z"
   },
   {
    "duration": 659,
    "start_time": "2025-03-10T16:53:59.773Z"
   },
   {
    "duration": 3,
    "start_time": "2025-03-10T16:54:03.837Z"
   },
   {
    "duration": 3,
    "start_time": "2025-03-10T16:54:05.534Z"
   },
   {
    "duration": 72,
    "start_time": "2025-03-10T17:01:22.712Z"
   },
   {
    "duration": 21,
    "start_time": "2025-03-10T17:04:51.687Z"
   },
   {
    "duration": 3,
    "start_time": "2025-03-10T17:07:38.555Z"
   },
   {
    "duration": 382,
    "start_time": "2025-03-10T17:07:57.145Z"
   },
   {
    "duration": 1625,
    "start_time": "2025-03-10T17:08:30.700Z"
   },
   {
    "duration": 881,
    "start_time": "2025-03-10T17:16:12.256Z"
   },
   {
    "duration": 7,
    "start_time": "2025-03-10T17:22:24.211Z"
   },
   {
    "duration": 9,
    "start_time": "2025-03-10T17:22:34.635Z"
   },
   {
    "duration": 12,
    "start_time": "2025-03-10T17:23:10.345Z"
   },
   {
    "duration": 9,
    "start_time": "2025-03-10T17:23:40.285Z"
   },
   {
    "duration": 4,
    "start_time": "2025-03-10T17:43:24.448Z"
   },
   {
    "duration": 3,
    "start_time": "2025-03-10T17:43:43.557Z"
   },
   {
    "duration": 3,
    "start_time": "2025-03-10T17:45:16.712Z"
   },
   {
    "duration": 4,
    "start_time": "2025-03-10T18:25:33.147Z"
   },
   {
    "duration": 274,
    "start_time": "2025-03-10T18:25:44.907Z"
   },
   {
    "duration": 3,
    "start_time": "2025-03-10T20:24:41.318Z"
   },
   {
    "duration": 259,
    "start_time": "2025-03-10T20:24:47.928Z"
   },
   {
    "duration": 3,
    "start_time": "2025-03-10T20:25:17.845Z"
   },
   {
    "duration": 332,
    "start_time": "2025-03-10T20:25:19.800Z"
   },
   {
    "duration": 76,
    "start_time": "2025-03-10T20:30:05.458Z"
   },
   {
    "duration": 6,
    "start_time": "2025-03-10T20:31:32.208Z"
   },
   {
    "duration": 153,
    "start_time": "2025-03-10T20:32:40.401Z"
   },
   {
    "duration": 7,
    "start_time": "2025-03-10T20:35:21.298Z"
   },
   {
    "duration": 6,
    "start_time": "2025-03-10T20:37:04.171Z"
   },
   {
    "duration": 7,
    "start_time": "2025-03-10T20:37:07.230Z"
   },
   {
    "duration": 149,
    "start_time": "2025-03-10T20:37:45.900Z"
   },
   {
    "duration": 6,
    "start_time": "2025-03-10T20:38:02.577Z"
   },
   {
    "duration": 8,
    "start_time": "2025-03-10T20:38:04.632Z"
   },
   {
    "duration": 148,
    "start_time": "2025-03-10T20:38:05.865Z"
   },
   {
    "duration": 147,
    "start_time": "2025-03-10T20:39:47.200Z"
   },
   {
    "duration": 145,
    "start_time": "2025-03-10T20:39:54.219Z"
   },
   {
    "duration": 145,
    "start_time": "2025-03-10T20:40:01.159Z"
   },
   {
    "duration": 147,
    "start_time": "2025-03-10T20:40:06.186Z"
   },
   {
    "duration": 171,
    "start_time": "2025-03-10T20:40:56.567Z"
   },
   {
    "duration": 187,
    "start_time": "2025-03-10T20:41:13.155Z"
   },
   {
    "duration": 196,
    "start_time": "2025-03-10T20:41:21.425Z"
   },
   {
    "duration": 172,
    "start_time": "2025-03-10T20:41:36.077Z"
   },
   {
    "duration": 20,
    "start_time": "2025-03-10T23:21:10.087Z"
   },
   {
    "duration": 446,
    "start_time": "2025-03-10T23:24:46.244Z"
   },
   {
    "duration": 66,
    "start_time": "2025-03-10T23:26:42.492Z"
   },
   {
    "duration": 6,
    "start_time": "2025-03-10T23:27:36.513Z"
   },
   {
    "duration": 68,
    "start_time": "2025-03-10T23:30:28.959Z"
   },
   {
    "duration": 68,
    "start_time": "2025-03-11T02:04:10.266Z"
   },
   {
    "duration": 158,
    "start_time": "2025-03-11T19:25:08.980Z"
   },
   {
    "duration": 3519,
    "start_time": "2025-03-11T19:25:15.699Z"
   },
   {
    "duration": 19,
    "start_time": "2025-03-11T19:25:19.220Z"
   },
   {
    "duration": 3,
    "start_time": "2025-03-11T19:25:19.241Z"
   },
   {
    "duration": 11,
    "start_time": "2025-03-11T19:25:19.246Z"
   },
   {
    "duration": 426,
    "start_time": "2025-03-11T19:25:19.259Z"
   },
   {
    "duration": 7,
    "start_time": "2025-03-11T19:25:19.687Z"
   },
   {
    "duration": 10,
    "start_time": "2025-03-11T19:25:19.695Z"
   },
   {
    "duration": 220,
    "start_time": "2025-03-11T19:25:19.706Z"
   },
   {
    "duration": 501,
    "start_time": "2025-03-11T19:25:19.928Z"
   },
   {
    "duration": 0,
    "start_time": "2025-03-11T19:25:20.431Z"
   },
   {
    "duration": 0,
    "start_time": "2025-03-11T19:25:20.432Z"
   },
   {
    "duration": 0,
    "start_time": "2025-03-11T19:25:20.434Z"
   },
   {
    "duration": 0,
    "start_time": "2025-03-11T19:25:20.435Z"
   },
   {
    "duration": 0,
    "start_time": "2025-03-11T19:25:20.436Z"
   },
   {
    "duration": 0,
    "start_time": "2025-03-11T19:25:20.437Z"
   },
   {
    "duration": 0,
    "start_time": "2025-03-11T19:25:20.438Z"
   },
   {
    "duration": 0,
    "start_time": "2025-03-11T19:25:20.439Z"
   },
   {
    "duration": 1730,
    "start_time": "2025-03-11T19:27:18.627Z"
   },
   {
    "duration": 107,
    "start_time": "2025-03-11T19:27:20.359Z"
   },
   {
    "duration": 3,
    "start_time": "2025-03-11T19:27:20.467Z"
   },
   {
    "duration": 12,
    "start_time": "2025-03-11T19:27:20.473Z"
   },
   {
    "duration": 302,
    "start_time": "2025-03-11T19:27:20.486Z"
   },
   {
    "duration": 7,
    "start_time": "2025-03-11T19:27:20.789Z"
   },
   {
    "duration": 9,
    "start_time": "2025-03-11T19:27:20.797Z"
   },
   {
    "duration": 224,
    "start_time": "2025-03-11T19:27:20.808Z"
   },
   {
    "duration": 897,
    "start_time": "2025-03-11T19:27:21.034Z"
   },
   {
    "duration": 3,
    "start_time": "2025-03-11T19:27:21.934Z"
   },
   {
    "duration": 4,
    "start_time": "2025-03-11T19:27:21.939Z"
   },
   {
    "duration": 4,
    "start_time": "2025-03-11T19:27:21.944Z"
   },
   {
    "duration": 4,
    "start_time": "2025-03-11T19:27:21.950Z"
   },
   {
    "duration": 4,
    "start_time": "2025-03-11T19:27:21.955Z"
   },
   {
    "duration": 18,
    "start_time": "2025-03-11T19:27:21.961Z"
   },
   {
    "duration": 889,
    "start_time": "2025-03-11T19:27:21.981Z"
   },
   {
    "duration": 0,
    "start_time": "2025-03-11T19:27:22.871Z"
   },
   {
    "duration": 71,
    "start_time": "2025-03-11T19:33:07.122Z"
   }
  ],
  "kernelspec": {
   "display_name": "Python [conda env:base] *",
   "language": "python",
   "name": "conda-base-py"
  },
  "language_info": {
   "codemirror_mode": {
    "name": "ipython",
    "version": 3
   },
   "file_extension": ".py",
   "mimetype": "text/x-python",
   "name": "python",
   "nbconvert_exporter": "python",
   "pygments_lexer": "ipython3",
   "version": "3.12.3"
  },
  "toc": {
   "base_numbering": 1,
   "nav_menu": {},
   "number_sections": true,
   "sideBar": true,
   "skip_h1_title": true,
   "title_cell": "Índice de contenido",
   "title_sidebar": "Contenido",
   "toc_cell": false,
   "toc_position": {
    "height": "calc(100% - 180px)",
    "left": "10px",
    "top": "150px",
    "width": "401px"
   },
   "toc_section_display": true,
   "toc_window_display": true
  }
 },
 "nbformat": 4,
 "nbformat_minor": 4
}
